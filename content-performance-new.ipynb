{
 "cells": [
  {
   "cell_type": "markdown",
   "id": "5fa37be0",
   "metadata": {},
   "source": [
    "# Article Names"
   ]
  },
  {
   "cell_type": "code",
   "execution_count": 23,
   "id": "b15f778b",
   "metadata": {},
   "outputs": [],
   "source": [
    "import numpy as np\n",
    "import statsmodels.api as sm"
   ]
  },
  {
   "cell_type": "code",
   "execution_count": 14,
   "id": "d64a8e22",
   "metadata": {
    "scrolled": true
   },
   "outputs": [
    {
     "name": "stderr",
     "output_type": "stream",
     "text": [
      "C:\\Users\\bkaufman\\AppData\\Local\\Temp\\ipykernel_23028\\4266695051.py:5: FutureWarning: The error_bad_lines argument has been deprecated and will be removed in a future version. Use on_bad_lines in the future.\n",
      "\n",
      "\n",
      "  df_article_names= pd.read_csv('U:/Documents/HP_Content_Performance/Article_Names.csv', error_bad_lines=False, sep=';' )\n"
     ]
    },
    {
     "name": "stdout",
     "output_type": "stream",
     "text": [
      "                                               label  nb_visits  nb_hits  \\\n",
      "0  Valg av benledningsimplantat ved ensidig døvhe...         54      119   \n",
      "1                   Hearing Loss and Health Problems         52      109   \n",
      "2  The Oldest CI Recipient Celebrates Her 100th B...         42       91   \n",
      "3                          Hearing and Mental Health         38       80   \n",
      "4                  Types and Degrees of Hearing Loss         16       31   \n",
      "5              How much does a hearing implant cost?         14       30   \n",
      "6                          Tipi e gradi di ipoacusia         12       26   \n",
      "7  Pioneers, Passion and Perserverance - the Hist...          7       14   \n",
      "8                  Quanto costa un impianto uditivo?          7        8   \n",
      "9  Che differenza c’è tra un apparecchio acustico...          6        8   \n",
      "\n",
      "   nb_hits_with_time_generation  min_time_generation  max_time_generation  \\\n",
      "0                           106                    3                    3   \n",
      "1                           104                    5                    5   \n",
      "2                            77                    2                    2   \n",
      "3                            78                    5                    5   \n",
      "4                            29                    5                    5   \n",
      "5                            30                    1                    1   \n",
      "6                            26                    4                    4   \n",
      "7                            14                    2                    2   \n",
      "8                             8                    5                    5   \n",
      "9                             8                    4                    4   \n",
      "\n",
      "   sum_time_network  nb_hits_with_time_network  min_time_network  \\\n",
      "0               217                          3                 0   \n",
      "1                 0                          2                 0   \n",
      "2                 0                          3                 0   \n",
      "3                 0                          1                 0   \n",
      "4                 0                          0                 0   \n",
      "5                 0                          0                 0   \n",
      "6                 0                          0                 0   \n",
      "7                 0                          0                 0   \n",
      "8                 0                          0                 0   \n",
      "9                 0                          0                 0   \n",
      "\n",
      "   max_time_network  ...  max_time_on_load  sum_time_spent  bounce_count  \\\n",
      "0               156  ...                 6            2527             0   \n",
      "1                 0  ...                 1             779             0   \n",
      "2                 0  ...                 2             383             0   \n",
      "3                 0  ...                 0            1238             0   \n",
      "4                 0  ...                 0             575             0   \n",
      "5                 0  ...                 0             111             0   \n",
      "6                 0  ...                 0             358             0   \n",
      "7                 0  ...                 0            1054             0   \n",
      "8                 0  ...                 0             135             0   \n",
      "9                 0  ...                 0             321             0   \n",
      "\n",
      "   exit_nb_visits  sum_daily_nb_uniq_visitors  avg_time_on_dimension  \\\n",
      "0              30                          53                     21   \n",
      "1              19                          52                      7   \n",
      "2              25                          42                      4   \n",
      "3              12                          38                     15   \n",
      "4               5                          16                     19   \n",
      "5               5                          13                      4   \n",
      "6               3                          11                     14   \n",
      "7               2                           7                     75   \n",
      "8               1                           7                     17   \n",
      "9               2                           6                     40   \n",
      "\n",
      "   bounce_rate  exit_rate  avg_time_generation  \\\n",
      "0            0       0,56                    1   \n",
      "1            0       0,37                    1   \n",
      "2            0        0,6                    1   \n",
      "3            0       0,32                    1   \n",
      "4            0       0,31                    1   \n",
      "5            0       0,36                    1   \n",
      "6            0       0,25                    1   \n",
      "7            0       0,29                    1   \n",
      "8            0       0,14                    1   \n",
      "9            0       0,33                    1   \n",
      "\n",
      "                                   Metadata: segment  \n",
      "0  dimension3==Valg+av+benledningsimplantat+ved+e...  \n",
      "1       dimension3==Hearing+Loss+and+Health+Problems  \n",
      "2  dimension3==The+Oldest+CI+Recipient+Celebrates...  \n",
      "3              dimension3==Hearing+and+Mental+Health  \n",
      "4      dimension3==Types+and+Degrees+of+Hearing+Loss  \n",
      "5  dimension3==How+much+does+a+hearing+implant+co...  \n",
      "6              dimension3==Tipi+e+gradi+di+ipoacusia  \n",
      "7  dimension3==Pioneers%2C+Passion+and+Perservera...  \n",
      "8    dimension3==Quanto+costa+un+impianto+uditivo%3F  \n",
      "9  dimension3==Che+differenza+c%E2%80%99%C3%A8+tr...  \n",
      "\n",
      "[10 rows x 39 columns]\n"
     ]
    }
   ],
   "source": [
    "import pandas as pd\n",
    "\n",
    "# Read CSV from directory\n",
    "\n",
    "df_article_names= pd.read_csv('U:/Documents/HP_Content_Performance/Article_Names.csv', error_bad_lines=False, sep=';' )\n",
    "\n",
    "# Display the first few rows of the DataFrame\n",
    "print(df_article_names)"
   ]
  },
  {
   "cell_type": "code",
   "execution_count": 16,
   "id": "abd631c7",
   "metadata": {},
   "outputs": [
    {
     "name": "stdout",
     "output_type": "stream",
     "text": [
      "                                               label  nb_hits\n",
      "0  Valg av benledningsimplantat ved ensidig døvhe...      119\n",
      "1                   Hearing Loss and Health Problems      109\n",
      "2  The Oldest CI Recipient Celebrates Her 100th B...       91\n",
      "3                          Hearing and Mental Health       80\n",
      "4                  Types and Degrees of Hearing Loss       31\n",
      "5              How much does a hearing implant cost?       30\n",
      "6                          Tipi e gradi di ipoacusia       26\n",
      "7  Pioneers, Passion and Perserverance - the Hist...       14\n",
      "8                  Quanto costa un impianto uditivo?        8\n",
      "9  Che differenza c’è tra un apparecchio acustico...        8\n"
     ]
    }
   ],
   "source": [
    "# Droping features from DataFrame \n",
    "\n",
    "df_articles = df_article_names[['label', 'nb_hits']]\n",
    "print(df_articles)"
   ]
  },
  {
   "cell_type": "code",
   "execution_count": 20,
   "id": "94cae8b5",
   "metadata": {},
   "outputs": [
    {
     "name": "stdout",
     "output_type": "stream",
     "text": [
      "   nb_hits  \\\n",
      "0      119   \n",
      "1      109   \n",
      "2       91   \n",
      "3       80   \n",
      "4       31   \n",
      "5       30   \n",
      "6       26   \n",
      "7       14   \n",
      "8        8   \n",
      "9        8   \n",
      "\n",
      "   label_Che differenza c’è tra un apparecchio acustico e un impianto uditivo?  \\\n",
      "0                                                  0                             \n",
      "1                                                  0                             \n",
      "2                                                  0                             \n",
      "3                                                  0                             \n",
      "4                                                  0                             \n",
      "5                                                  0                             \n",
      "6                                                  0                             \n",
      "7                                                  0                             \n",
      "8                                                  0                             \n",
      "9                                                  1                             \n",
      "\n",
      "   label_Hearing Loss and Health Problems  label_Hearing and Mental Health  \\\n",
      "0                                       0                                0   \n",
      "1                                       1                                0   \n",
      "2                                       0                                0   \n",
      "3                                       0                                1   \n",
      "4                                       0                                0   \n",
      "5                                       0                                0   \n",
      "6                                       0                                0   \n",
      "7                                       0                                0   \n",
      "8                                       0                                0   \n",
      "9                                       0                                0   \n",
      "\n",
      "   label_How much does a hearing implant cost?  \\\n",
      "0                                            0   \n",
      "1                                            0   \n",
      "2                                            0   \n",
      "3                                            0   \n",
      "4                                            0   \n",
      "5                                            1   \n",
      "6                                            0   \n",
      "7                                            0   \n",
      "8                                            0   \n",
      "9                                            0   \n",
      "\n",
      "   label_Pioneers, Passion and Perserverance - the History of Cochlear Implants  \\\n",
      "0                                                  0                              \n",
      "1                                                  0                              \n",
      "2                                                  0                              \n",
      "3                                                  0                              \n",
      "4                                                  0                              \n",
      "5                                                  0                              \n",
      "6                                                  0                              \n",
      "7                                                  1                              \n",
      "8                                                  0                              \n",
      "9                                                  0                              \n",
      "\n",
      "   label_Quanto costa un impianto uditivo?  \\\n",
      "0                                        0   \n",
      "1                                        0   \n",
      "2                                        0   \n",
      "3                                        0   \n",
      "4                                        0   \n",
      "5                                        0   \n",
      "6                                        0   \n",
      "7                                        0   \n",
      "8                                        1   \n",
      "9                                        0   \n",
      "\n",
      "   label_The Oldest CI Recipient Celebrates Her 100th Birthday  \\\n",
      "0                                                  0             \n",
      "1                                                  0             \n",
      "2                                                  1             \n",
      "3                                                  0             \n",
      "4                                                  0             \n",
      "5                                                  0             \n",
      "6                                                  0             \n",
      "7                                                  0             \n",
      "8                                                  0             \n",
      "9                                                  0             \n",
      "\n",
      "   label_Tipi e gradi di ipoacusia  label_Types and Degrees of Hearing Loss  \\\n",
      "0                                0                                        0   \n",
      "1                                0                                        0   \n",
      "2                                0                                        0   \n",
      "3                                0                                        0   \n",
      "4                                0                                        1   \n",
      "5                                0                                        0   \n",
      "6                                1                                        0   \n",
      "7                                0                                        0   \n",
      "8                                0                                        0   \n",
      "9                                0                                        0   \n",
      "\n",
      "   label_Valg av benledningsimplantat ved ensidig døvhet: Olavs hørselsreise  \n",
      "0                                                  1                          \n",
      "1                                                  0                          \n",
      "2                                                  0                          \n",
      "3                                                  0                          \n",
      "4                                                  0                          \n",
      "5                                                  0                          \n",
      "6                                                  0                          \n",
      "7                                                  0                          \n",
      "8                                                  0                          \n",
      "9                                                  0                          \n"
     ]
    }
   ],
   "source": [
    "# One-hot encode 'label' articles\n",
    "\n",
    "df_articles_encoded = pd.get_dummies(df_articles, columns=['label'])\n",
    "print(df_articles_encoded)"
   ]
  },
  {
   "cell_type": "markdown",
   "id": "e81673a6",
   "metadata": {},
   "source": [
    "# Author Names"
   ]
  },
  {
   "cell_type": "code",
   "execution_count": 3,
   "id": "44086753",
   "metadata": {
    "scrolled": true
   },
   "outputs": [
    {
     "name": "stderr",
     "output_type": "stream",
     "text": [
      "C:\\Users\\bkaufman\\AppData\\Local\\Temp\\ipykernel_23028\\2524895402.py:5: FutureWarning: The error_bad_lines argument has been deprecated and will be removed in a future version. Use on_bad_lines in the future.\n",
      "\n",
      "\n",
      "  df_author_names= pd.read_csv('U:/Documents/HP_Content_Performance/Authors_Name.csv', error_bad_lines=False, sep=';' )\n"
     ]
    },
    {
     "name": "stdout",
     "output_type": "stream",
     "text": [
      "               label  nb_visits  nb_hits  nb_hits_with_time_generation  \\\n",
      "0          Hearpeers        219      597                           417   \n",
      "1  Value not defined        118      249                           230   \n",
      "2        Ascoltatori         17       31                            31   \n",
      "3             MED-EL         10       19                            19   \n",
      "4        Verena Ahne          5        6                             6   \n",
      "5  Katherine Diggory          3        4                             4   \n",
      "6           Katarina          2        2                             1   \n",
      "7   Madeleine Bailey          2        4                             4   \n",
      "8     Ulrike Moschen          2        3                             3   \n",
      "9   Alexandra Rotter          1        1                             1   \n",
      "\n",
      "   min_time_generation  max_time_generation  sum_time_network  \\\n",
      "0                   89                   89               897   \n",
      "1                   15                   15               217   \n",
      "2                   12                   12                 0   \n",
      "3                    5                    5                 0   \n",
      "4                    5                    5                 0   \n",
      "5                    3                    3                 0   \n",
      "6                    1                    1                 0   \n",
      "7                    2                    2                 0   \n",
      "8                    2                    2                 0   \n",
      "9                    1                    1                 0   \n",
      "\n",
      "   nb_hits_with_time_network  min_time_network  max_time_network  ...  \\\n",
      "0                          5               897               897  ...   \n",
      "1                          5                 0               156  ...   \n",
      "2                          0                 0                 0  ...   \n",
      "3                          0                 0                 0  ...   \n",
      "4                          0                 0                 0  ...   \n",
      "5                          0                 0                 0  ...   \n",
      "6                          0                 0                 0  ...   \n",
      "7                          0                 0                 0  ...   \n",
      "8                          0                 0                 0  ...   \n",
      "9                          0                 0                 0  ...   \n",
      "\n",
      "   max_time_on_load  sum_time_spent  bounce_count  exit_nb_visits  \\\n",
      "0                 2            8370             0              81   \n",
      "1                 7            3641             0              55   \n",
      "2                 0             479             0               5   \n",
      "3                 0            1389             0               3   \n",
      "4                 0             156             0               1   \n",
      "5                 0             159             0               1   \n",
      "6                 0             112             0               0   \n",
      "7                 0              85             0               0   \n",
      "8                 0             978             0               1   \n",
      "9                 0               0             0               1   \n",
      "\n",
      "   sum_daily_nb_uniq_visitors  avg_time_on_dimension  bounce_rate  exit_rate  \\\n",
      "0                         216                     14            0       0,37   \n",
      "1                         117                     15            0       0,47   \n",
      "2                          17                     15            0       0,29   \n",
      "3                          10                     73            0        0,3   \n",
      "4                           5                     26            0        0,2   \n",
      "5                           3                     40            0       0,33   \n",
      "6                           2                     56            0          0   \n",
      "7                           2                     21            0          0   \n",
      "8                           2                    326            0        0,5   \n",
      "9                           1                      0            0          1   \n",
      "\n",
      "   avg_time_generation              Metadata: segment  \n",
      "0                    1          dimension2==Hearpeers  \n",
      "1                    1                   dimension2==  \n",
      "2                    1        dimension2==Ascoltatori  \n",
      "3                    1             dimension2==MED-EL  \n",
      "4                    1        dimension2==Verena+Ahne  \n",
      "5                    1  dimension2==Katherine+Diggory  \n",
      "6                    1           dimension2==Katarina  \n",
      "7                    1   dimension2==Madeleine+Bailey  \n",
      "8                    1     dimension2==Ulrike+Moschen  \n",
      "9                    1   dimension2==Alexandra+Rotter  \n",
      "\n",
      "[10 rows x 39 columns]\n"
     ]
    }
   ],
   "source": [
    "import pandas as pd\n",
    "\n",
    "# Read CSV from directory\n",
    "\n",
    "df_author_names= pd.read_csv('U:/Documents/HP_Content_Performance/Authors_Name.csv', error_bad_lines=False, sep=';' )\n",
    "\n",
    "# Display the first few rows of the DataFrame\n",
    "print(df_author_names)"
   ]
  },
  {
   "cell_type": "code",
   "execution_count": 9,
   "id": "4c721663",
   "metadata": {},
   "outputs": [
    {
     "name": "stdout",
     "output_type": "stream",
     "text": [
      "               label  nb_hits\n",
      "0          Hearpeers      597\n",
      "1  Value not defined      249\n",
      "2        Ascoltatori       31\n",
      "3             MED-EL       19\n",
      "4        Verena Ahne        6\n",
      "5  Katherine Diggory        4\n",
      "6           Katarina        2\n",
      "7   Madeleine Bailey        4\n",
      "8     Ulrike Moschen        3\n",
      "9   Alexandra Rotter        1\n"
     ]
    }
   ],
   "source": [
    "# Droping features from DataFrame \n",
    "\n",
    "df_authors = df_author_names[['label', 'nb_hits']]\n",
    "print(df_authors)"
   ]
  },
  {
   "cell_type": "code",
   "execution_count": 21,
   "id": "9ef15fd3",
   "metadata": {
    "scrolled": true
   },
   "outputs": [
    {
     "name": "stdout",
     "output_type": "stream",
     "text": [
      "   nb_hits  label_Alexandra Rotter  label_Ascoltatori  label_Hearpeers  \\\n",
      "0      597                       0                  0                1   \n",
      "1      249                       0                  0                0   \n",
      "2       31                       0                  1                0   \n",
      "3       19                       0                  0                0   \n",
      "4        6                       0                  0                0   \n",
      "5        4                       0                  0                0   \n",
      "6        2                       0                  0                0   \n",
      "7        4                       0                  0                0   \n",
      "8        3                       0                  0                0   \n",
      "9        1                       1                  0                0   \n",
      "\n",
      "   label_Katarina  label_Katherine Diggory  label_MED-EL  \\\n",
      "0               0                        0             0   \n",
      "1               0                        0             0   \n",
      "2               0                        0             0   \n",
      "3               0                        0             1   \n",
      "4               0                        0             0   \n",
      "5               0                        1             0   \n",
      "6               1                        0             0   \n",
      "7               0                        0             0   \n",
      "8               0                        0             0   \n",
      "9               0                        0             0   \n",
      "\n",
      "   label_Madeleine Bailey  label_Ulrike Moschen  label_Value not defined  \\\n",
      "0                       0                     0                        0   \n",
      "1                       0                     0                        1   \n",
      "2                       0                     0                        0   \n",
      "3                       0                     0                        0   \n",
      "4                       0                     0                        0   \n",
      "5                       0                     0                        0   \n",
      "6                       0                     0                        0   \n",
      "7                       1                     0                        0   \n",
      "8                       0                     1                        0   \n",
      "9                       0                     0                        0   \n",
      "\n",
      "   label_Verena Ahne  \n",
      "0                  0  \n",
      "1                  0  \n",
      "2                  0  \n",
      "3                  0  \n",
      "4                  1  \n",
      "5                  0  \n",
      "6                  0  \n",
      "7                  0  \n",
      "8                  0  \n",
      "9                  0  \n"
     ]
    }
   ],
   "source": [
    "# One-hot encode 'label' authors names\n",
    "\n",
    "authors_names_encoded = pd.get_dummies(df_authors, columns=['label'])\n",
    "\n",
    "print(authors_names_encoded)\n"
   ]
  },
  {
   "cell_type": "markdown",
   "id": "6befe973",
   "metadata": {},
   "source": [
    "# Performing Logistic Regression Modelling on Authors Names"
   ]
  },
  {
   "cell_type": "code",
   "execution_count": 24,
   "id": "d390212b",
   "metadata": {
    "scrolled": true
   },
   "outputs": [
    {
     "ename": "PerfectSeparationError",
     "evalue": "Perfect separation detected, results not available",
     "output_type": "error",
     "traceback": [
      "\u001b[1;31m---------------------------------------------------------------------------\u001b[0m",
      "\u001b[1;31mPerfectSeparationError\u001b[0m                    Traceback (most recent call last)",
      "Input \u001b[1;32mIn [24]\u001b[0m, in \u001b[0;36m<cell line: 13>\u001b[1;34m()\u001b[0m\n\u001b[0;32m     11\u001b[0m \u001b[38;5;66;03m# Performing logistic regression\u001b[39;00m\n\u001b[0;32m     12\u001b[0m model \u001b[38;5;241m=\u001b[39m sm\u001b[38;5;241m.\u001b[39mLogit(y, X)\n\u001b[1;32m---> 13\u001b[0m result \u001b[38;5;241m=\u001b[39m \u001b[43mmodel\u001b[49m\u001b[38;5;241;43m.\u001b[39;49m\u001b[43mfit\u001b[49m\u001b[43m(\u001b[49m\u001b[43m)\u001b[49m\n\u001b[0;32m     15\u001b[0m \u001b[38;5;66;03m# Printing the summary of the logistic regression model\u001b[39;00m\n\u001b[0;32m     16\u001b[0m \u001b[38;5;28mprint\u001b[39m(result\u001b[38;5;241m.\u001b[39msummary())\n",
      "File \u001b[1;32m~\\Anaconda3\\lib\\site-packages\\statsmodels\\discrete\\discrete_model.py:1983\u001b[0m, in \u001b[0;36mLogit.fit\u001b[1;34m(self, start_params, method, maxiter, full_output, disp, callback, **kwargs)\u001b[0m\n\u001b[0;32m   1980\u001b[0m \u001b[38;5;129m@Appender\u001b[39m(DiscreteModel\u001b[38;5;241m.\u001b[39mfit\u001b[38;5;241m.\u001b[39m\u001b[38;5;18m__doc__\u001b[39m)\n\u001b[0;32m   1981\u001b[0m \u001b[38;5;28;01mdef\u001b[39;00m \u001b[38;5;21mfit\u001b[39m(\u001b[38;5;28mself\u001b[39m, start_params\u001b[38;5;241m=\u001b[39m\u001b[38;5;28;01mNone\u001b[39;00m, method\u001b[38;5;241m=\u001b[39m\u001b[38;5;124m'\u001b[39m\u001b[38;5;124mnewton\u001b[39m\u001b[38;5;124m'\u001b[39m, maxiter\u001b[38;5;241m=\u001b[39m\u001b[38;5;241m35\u001b[39m,\n\u001b[0;32m   1982\u001b[0m         full_output\u001b[38;5;241m=\u001b[39m\u001b[38;5;241m1\u001b[39m, disp\u001b[38;5;241m=\u001b[39m\u001b[38;5;241m1\u001b[39m, callback\u001b[38;5;241m=\u001b[39m\u001b[38;5;28;01mNone\u001b[39;00m, \u001b[38;5;241m*\u001b[39m\u001b[38;5;241m*\u001b[39mkwargs):\n\u001b[1;32m-> 1983\u001b[0m     bnryfit \u001b[38;5;241m=\u001b[39m \u001b[38;5;28msuper\u001b[39m()\u001b[38;5;241m.\u001b[39mfit(start_params\u001b[38;5;241m=\u001b[39mstart_params,\n\u001b[0;32m   1984\u001b[0m                           method\u001b[38;5;241m=\u001b[39mmethod,\n\u001b[0;32m   1985\u001b[0m                           maxiter\u001b[38;5;241m=\u001b[39mmaxiter,\n\u001b[0;32m   1986\u001b[0m                           full_output\u001b[38;5;241m=\u001b[39mfull_output,\n\u001b[0;32m   1987\u001b[0m                           disp\u001b[38;5;241m=\u001b[39mdisp,\n\u001b[0;32m   1988\u001b[0m                           callback\u001b[38;5;241m=\u001b[39mcallback,\n\u001b[0;32m   1989\u001b[0m                           \u001b[38;5;241m*\u001b[39m\u001b[38;5;241m*\u001b[39mkwargs)\n\u001b[0;32m   1991\u001b[0m     discretefit \u001b[38;5;241m=\u001b[39m LogitResults(\u001b[38;5;28mself\u001b[39m, bnryfit)\n\u001b[0;32m   1992\u001b[0m     \u001b[38;5;28;01mreturn\u001b[39;00m BinaryResultsWrapper(discretefit)\n",
      "File \u001b[1;32m~\\Anaconda3\\lib\\site-packages\\statsmodels\\discrete\\discrete_model.py:230\u001b[0m, in \u001b[0;36mDiscreteModel.fit\u001b[1;34m(self, start_params, method, maxiter, full_output, disp, callback, **kwargs)\u001b[0m\n\u001b[0;32m    227\u001b[0m \u001b[38;5;28;01melse\u001b[39;00m:\n\u001b[0;32m    228\u001b[0m     \u001b[38;5;28;01mpass\u001b[39;00m  \u001b[38;5;66;03m# TODO: make a function factory to have multiple call-backs\u001b[39;00m\n\u001b[1;32m--> 230\u001b[0m mlefit \u001b[38;5;241m=\u001b[39m \u001b[38;5;28msuper\u001b[39m()\u001b[38;5;241m.\u001b[39mfit(start_params\u001b[38;5;241m=\u001b[39mstart_params,\n\u001b[0;32m    231\u001b[0m                      method\u001b[38;5;241m=\u001b[39mmethod,\n\u001b[0;32m    232\u001b[0m                      maxiter\u001b[38;5;241m=\u001b[39mmaxiter,\n\u001b[0;32m    233\u001b[0m                      full_output\u001b[38;5;241m=\u001b[39mfull_output,\n\u001b[0;32m    234\u001b[0m                      disp\u001b[38;5;241m=\u001b[39mdisp,\n\u001b[0;32m    235\u001b[0m                      callback\u001b[38;5;241m=\u001b[39mcallback,\n\u001b[0;32m    236\u001b[0m                      \u001b[38;5;241m*\u001b[39m\u001b[38;5;241m*\u001b[39mkwargs)\n\u001b[0;32m    238\u001b[0m \u001b[38;5;28;01mreturn\u001b[39;00m mlefit\n",
      "File \u001b[1;32m~\\Anaconda3\\lib\\site-packages\\statsmodels\\base\\model.py:563\u001b[0m, in \u001b[0;36mLikelihoodModel.fit\u001b[1;34m(self, start_params, method, maxiter, full_output, disp, fargs, callback, retall, skip_hessian, **kwargs)\u001b[0m\n\u001b[0;32m    560\u001b[0m     \u001b[38;5;28;01mdel\u001b[39;00m kwargs[\u001b[38;5;124m\"\u001b[39m\u001b[38;5;124muse_t\u001b[39m\u001b[38;5;124m\"\u001b[39m]\n\u001b[0;32m    562\u001b[0m optimizer \u001b[38;5;241m=\u001b[39m Optimizer()\n\u001b[1;32m--> 563\u001b[0m xopt, retvals, optim_settings \u001b[38;5;241m=\u001b[39m \u001b[43moptimizer\u001b[49m\u001b[38;5;241;43m.\u001b[39;49m\u001b[43m_fit\u001b[49m\u001b[43m(\u001b[49m\u001b[43mf\u001b[49m\u001b[43m,\u001b[49m\u001b[43m \u001b[49m\u001b[43mscore\u001b[49m\u001b[43m,\u001b[49m\u001b[43m \u001b[49m\u001b[43mstart_params\u001b[49m\u001b[43m,\u001b[49m\n\u001b[0;32m    564\u001b[0m \u001b[43m                                               \u001b[49m\u001b[43mfargs\u001b[49m\u001b[43m,\u001b[49m\u001b[43m \u001b[49m\u001b[43mkwargs\u001b[49m\u001b[43m,\u001b[49m\n\u001b[0;32m    565\u001b[0m \u001b[43m                                               \u001b[49m\u001b[43mhessian\u001b[49m\u001b[38;5;241;43m=\u001b[39;49m\u001b[43mhess\u001b[49m\u001b[43m,\u001b[49m\n\u001b[0;32m    566\u001b[0m \u001b[43m                                               \u001b[49m\u001b[43mmethod\u001b[49m\u001b[38;5;241;43m=\u001b[39;49m\u001b[43mmethod\u001b[49m\u001b[43m,\u001b[49m\n\u001b[0;32m    567\u001b[0m \u001b[43m                                               \u001b[49m\u001b[43mdisp\u001b[49m\u001b[38;5;241;43m=\u001b[39;49m\u001b[43mdisp\u001b[49m\u001b[43m,\u001b[49m\n\u001b[0;32m    568\u001b[0m \u001b[43m                                               \u001b[49m\u001b[43mmaxiter\u001b[49m\u001b[38;5;241;43m=\u001b[39;49m\u001b[43mmaxiter\u001b[49m\u001b[43m,\u001b[49m\n\u001b[0;32m    569\u001b[0m \u001b[43m                                               \u001b[49m\u001b[43mcallback\u001b[49m\u001b[38;5;241;43m=\u001b[39;49m\u001b[43mcallback\u001b[49m\u001b[43m,\u001b[49m\n\u001b[0;32m    570\u001b[0m \u001b[43m                                               \u001b[49m\u001b[43mretall\u001b[49m\u001b[38;5;241;43m=\u001b[39;49m\u001b[43mretall\u001b[49m\u001b[43m,\u001b[49m\n\u001b[0;32m    571\u001b[0m \u001b[43m                                               \u001b[49m\u001b[43mfull_output\u001b[49m\u001b[38;5;241;43m=\u001b[39;49m\u001b[43mfull_output\u001b[49m\u001b[43m)\u001b[49m\n\u001b[0;32m    572\u001b[0m \u001b[38;5;66;03m# Restore cov_type, cov_kwds and use_t\u001b[39;00m\n\u001b[0;32m    573\u001b[0m optim_settings\u001b[38;5;241m.\u001b[39mupdate(kwds)\n",
      "File \u001b[1;32m~\\Anaconda3\\lib\\site-packages\\statsmodels\\base\\optimizer.py:241\u001b[0m, in \u001b[0;36mOptimizer._fit\u001b[1;34m(self, objective, gradient, start_params, fargs, kwargs, hessian, method, maxiter, full_output, disp, callback, retall)\u001b[0m\n\u001b[0;32m    238\u001b[0m     fit_funcs\u001b[38;5;241m.\u001b[39mupdate(extra_fit_funcs)\n\u001b[0;32m    240\u001b[0m func \u001b[38;5;241m=\u001b[39m fit_funcs[method]\n\u001b[1;32m--> 241\u001b[0m xopt, retvals \u001b[38;5;241m=\u001b[39m \u001b[43mfunc\u001b[49m\u001b[43m(\u001b[49m\u001b[43mobjective\u001b[49m\u001b[43m,\u001b[49m\u001b[43m \u001b[49m\u001b[43mgradient\u001b[49m\u001b[43m,\u001b[49m\u001b[43m \u001b[49m\u001b[43mstart_params\u001b[49m\u001b[43m,\u001b[49m\u001b[43m \u001b[49m\u001b[43mfargs\u001b[49m\u001b[43m,\u001b[49m\u001b[43m \u001b[49m\u001b[43mkwargs\u001b[49m\u001b[43m,\u001b[49m\n\u001b[0;32m    242\u001b[0m \u001b[43m                     \u001b[49m\u001b[43mdisp\u001b[49m\u001b[38;5;241;43m=\u001b[39;49m\u001b[43mdisp\u001b[49m\u001b[43m,\u001b[49m\u001b[43m \u001b[49m\u001b[43mmaxiter\u001b[49m\u001b[38;5;241;43m=\u001b[39;49m\u001b[43mmaxiter\u001b[49m\u001b[43m,\u001b[49m\u001b[43m \u001b[49m\u001b[43mcallback\u001b[49m\u001b[38;5;241;43m=\u001b[39;49m\u001b[43mcallback\u001b[49m\u001b[43m,\u001b[49m\n\u001b[0;32m    243\u001b[0m \u001b[43m                     \u001b[49m\u001b[43mretall\u001b[49m\u001b[38;5;241;43m=\u001b[39;49m\u001b[43mretall\u001b[49m\u001b[43m,\u001b[49m\u001b[43m \u001b[49m\u001b[43mfull_output\u001b[49m\u001b[38;5;241;43m=\u001b[39;49m\u001b[43mfull_output\u001b[49m\u001b[43m,\u001b[49m\n\u001b[0;32m    244\u001b[0m \u001b[43m                     \u001b[49m\u001b[43mhess\u001b[49m\u001b[38;5;241;43m=\u001b[39;49m\u001b[43mhessian\u001b[49m\u001b[43m)\u001b[49m\n\u001b[0;32m    246\u001b[0m optim_settings \u001b[38;5;241m=\u001b[39m {\u001b[38;5;124m'\u001b[39m\u001b[38;5;124moptimizer\u001b[39m\u001b[38;5;124m'\u001b[39m: method, \u001b[38;5;124m'\u001b[39m\u001b[38;5;124mstart_params\u001b[39m\u001b[38;5;124m'\u001b[39m: start_params,\n\u001b[0;32m    247\u001b[0m                   \u001b[38;5;124m'\u001b[39m\u001b[38;5;124mmaxiter\u001b[39m\u001b[38;5;124m'\u001b[39m: maxiter, \u001b[38;5;124m'\u001b[39m\u001b[38;5;124mfull_output\u001b[39m\u001b[38;5;124m'\u001b[39m: full_output,\n\u001b[0;32m    248\u001b[0m                   \u001b[38;5;124m'\u001b[39m\u001b[38;5;124mdisp\u001b[39m\u001b[38;5;124m'\u001b[39m: disp, \u001b[38;5;124m'\u001b[39m\u001b[38;5;124mfargs\u001b[39m\u001b[38;5;124m'\u001b[39m: fargs, \u001b[38;5;124m'\u001b[39m\u001b[38;5;124mcallback\u001b[39m\u001b[38;5;124m'\u001b[39m: callback,\n\u001b[0;32m    249\u001b[0m                   \u001b[38;5;124m'\u001b[39m\u001b[38;5;124mretall\u001b[39m\u001b[38;5;124m'\u001b[39m: retall, \u001b[38;5;124m\"\u001b[39m\u001b[38;5;124mextra_fit_funcs\u001b[39m\u001b[38;5;124m\"\u001b[39m: extra_fit_funcs}\n\u001b[0;32m    250\u001b[0m optim_settings\u001b[38;5;241m.\u001b[39mupdate(kwargs)\n",
      "File \u001b[1;32m~\\Anaconda3\\lib\\site-packages\\statsmodels\\base\\optimizer.py:443\u001b[0m, in \u001b[0;36m_fit_newton\u001b[1;34m(f, score, start_params, fargs, kwargs, disp, maxiter, callback, retall, full_output, hess, ridge_factor)\u001b[0m\n\u001b[0;32m    441\u001b[0m         history\u001b[38;5;241m.\u001b[39mappend(newparams)\n\u001b[0;32m    442\u001b[0m     \u001b[38;5;28;01mif\u001b[39;00m callback \u001b[38;5;129;01mis\u001b[39;00m \u001b[38;5;129;01mnot\u001b[39;00m \u001b[38;5;28;01mNone\u001b[39;00m:\n\u001b[1;32m--> 443\u001b[0m         \u001b[43mcallback\u001b[49m\u001b[43m(\u001b[49m\u001b[43mnewparams\u001b[49m\u001b[43m)\u001b[49m\n\u001b[0;32m    444\u001b[0m     iterations \u001b[38;5;241m+\u001b[39m\u001b[38;5;241m=\u001b[39m \u001b[38;5;241m1\u001b[39m\n\u001b[0;32m    445\u001b[0m fval \u001b[38;5;241m=\u001b[39m f(newparams, \u001b[38;5;241m*\u001b[39mfargs)  \u001b[38;5;66;03m# this is the negative likelihood\u001b[39;00m\n",
      "File \u001b[1;32m~\\Anaconda3\\lib\\site-packages\\statsmodels\\discrete\\discrete_model.py:214\u001b[0m, in \u001b[0;36mDiscreteModel._check_perfect_pred\u001b[1;34m(self, params, *args)\u001b[0m\n\u001b[0;32m    211\u001b[0m \u001b[38;5;28;01mif\u001b[39;00m (\u001b[38;5;28mself\u001b[39m\u001b[38;5;241m.\u001b[39mraise_on_perfect_prediction \u001b[38;5;129;01mand\u001b[39;00m\n\u001b[0;32m    212\u001b[0m         np\u001b[38;5;241m.\u001b[39mallclose(fittedvalues \u001b[38;5;241m-\u001b[39m endog, \u001b[38;5;241m0\u001b[39m)):\n\u001b[0;32m    213\u001b[0m     msg \u001b[38;5;241m=\u001b[39m \u001b[38;5;124m\"\u001b[39m\u001b[38;5;124mPerfect separation detected, results not available\u001b[39m\u001b[38;5;124m\"\u001b[39m\n\u001b[1;32m--> 214\u001b[0m     \u001b[38;5;28;01mraise\u001b[39;00m PerfectSeparationError(msg)\n",
      "\u001b[1;31mPerfectSeparationError\u001b[0m: Perfect separation detected, results not available"
     ]
    }
   ],
   "source": [
    "# Assuming df_author and df_article are your DataFrames\n",
    "authors_names_encoded['high_engagement'] = (authors_names_encoded['nb_hits'] > authors_names_encoded['nb_hits'].median()).astype(int)\n",
    "\n",
    "# Selecting the features and the target variable\n",
    "X = authors_names_encoded.drop(columns=['nb_hits', 'high_engagement'])\n",
    "y = authors_names_encoded['high_engagement']\n",
    "\n",
    "# Adding a constant to the model for the intercept\n",
    "X = sm.add_constant(X)\n",
    "\n",
    "# Performing logistic regression\n",
    "model = sm.Logit(y, X)\n",
    "result = model.fit()\n",
    "\n",
    "# Printing the summary of the logistic regression model\n",
    "print(result.summary())"
   ]
  },
  {
   "cell_type": "markdown",
   "id": "63f44afd",
   "metadata": {},
   "source": [
    "# Reactions"
   ]
  },
  {
   "cell_type": "code",
   "execution_count": 10,
   "id": "21af32f4",
   "metadata": {
    "scrolled": true
   },
   "outputs": [
    {
     "name": "stderr",
     "output_type": "stream",
     "text": [
      "C:\\Users\\bkaufman\\AppData\\Local\\Temp\\ipykernel_23028\\3147944583.py:3: FutureWarning: The error_bad_lines argument has been deprecated and will be removed in a future version. Use on_bad_lines in the future.\n",
      "\n",
      "\n",
      "  df_reactions = pd.read_csv('U:/Documents/HP_Content_Performance/Reactions.csv', error_bad_lines=False, sep=';')\n"
     ]
    },
    {
     "name": "stdout",
     "output_type": "stream",
     "text": [
      "                                             label  nb_visits  nb_hits  \\\n",
      "0                                                0        314      639   \n",
      "1                                                1         47      101   \n",
      "2                                                2          2        2   \n",
      "3   window.MatomoTagManager.customHtmlDataStore[8]          1        1   \n",
      "4  window.MatomoTagManager.customHtmlDataStore[19]          1        1   \n",
      "5  window.MatomoTagManager.customHtmlDataStore[30]          1        1   \n",
      "\n",
      "   nb_hits_with_time_generation  min_time_generation  max_time_generation  \\\n",
      "0                           639                  112                  112   \n",
      "1                            79                    7                    7   \n",
      "2                             2                    2                    2   \n",
      "3                             1                    1                    1   \n",
      "4                             1                    1                    1   \n",
      "5                             1                    1                    1   \n",
      "\n",
      "   sum_time_network  nb_hits_with_time_network  min_time_network  \\\n",
      "0                 0                          0                 0   \n",
      "1                 0                          3                 0   \n",
      "2                 0                          0                 0   \n",
      "3                 0                          0                 0   \n",
      "4                 0                          0                 0   \n",
      "5                 0                          0                 0   \n",
      "\n",
      "   max_time_network  ...  max_time_on_load  sum_time_spent  bounce_count  \\\n",
      "0                 0  ...                 0           13303             0   \n",
      "1                 0  ...                 2             989             0   \n",
      "2                 0  ...                 0               0             0   \n",
      "3                 0  ...                 0               0             0   \n",
      "4                 0  ...                 0               5             0   \n",
      "5                 0  ...                 0             155             0   \n",
      "\n",
      "   exit_nb_visits  sum_daily_nb_uniq_visitors  avg_time_on_dimension  \\\n",
      "0             109                         310                     21   \n",
      "1              27                          47                     10   \n",
      "2               2                           2                      0   \n",
      "3               0                           1                      0   \n",
      "4               0                           1                      5   \n",
      "5               0                           1                    155   \n",
      "\n",
      "   bounce_rate  exit_rate  avg_time_generation  \\\n",
      "0            0       0,35                    1   \n",
      "1            0       0,57                    1   \n",
      "2            0          1                    1   \n",
      "3            0          0                    1   \n",
      "4            0          0                    1   \n",
      "5            0          0                    1   \n",
      "\n",
      "                                   Metadata: segment  \n",
      "0                                      dimension4==0  \n",
      "1                                      dimension4==1  \n",
      "2                                      dimension4==2  \n",
      "3  dimension4==window.MatomoTagManager.customHtml...  \n",
      "4  dimension4==window.MatomoTagManager.customHtml...  \n",
      "5  dimension4==window.MatomoTagManager.customHtml...  \n",
      "\n",
      "[6 rows x 39 columns]\n"
     ]
    }
   ],
   "source": [
    "# Read CSV from directory\n",
    "\n",
    "df_reactions = pd.read_csv('U:/Documents/HP_Content_Performance/Reactions.csv', error_bad_lines=False, sep=';')\n",
    "\n",
    "# Display the first few rows of the DataFrame\n",
    "print(df_reactions)"
   ]
  },
  {
   "cell_type": "code",
   "execution_count": 11,
   "id": "5c42d4f2",
   "metadata": {
    "scrolled": true
   },
   "outputs": [
    {
     "name": "stdout",
     "output_type": "stream",
     "text": [
      "  label  nb_visits  nb_hits  nb_hits_with_time_generation  \\\n",
      "0     0        314      639                           639   \n",
      "1     1         47      101                            79   \n",
      "2     2          2        2                             2   \n",
      "\n",
      "   min_time_generation  max_time_generation  sum_time_network  \\\n",
      "0                  112                  112                 0   \n",
      "1                    7                    7                 0   \n",
      "2                    2                    2                 0   \n",
      "\n",
      "   nb_hits_with_time_network  min_time_network  max_time_network  ...  \\\n",
      "0                          0                 0                 0  ...   \n",
      "1                          3                 0                 0  ...   \n",
      "2                          0                 0                 0  ...   \n",
      "\n",
      "   max_time_on_load  sum_time_spent  bounce_count  exit_nb_visits  \\\n",
      "0                 0           13303             0             109   \n",
      "1                 2             989             0              27   \n",
      "2                 0               0             0               2   \n",
      "\n",
      "   sum_daily_nb_uniq_visitors  avg_time_on_dimension  bounce_rate  exit_rate  \\\n",
      "0                         310                     21            0       0,35   \n",
      "1                          47                     10            0       0,57   \n",
      "2                           2                      0            0          1   \n",
      "\n",
      "   avg_time_generation  Metadata: segment  \n",
      "0                    1      dimension4==0  \n",
      "1                    1      dimension4==1  \n",
      "2                    1      dimension4==2  \n",
      "\n",
      "[3 rows x 39 columns]\n"
     ]
    }
   ],
   "source": [
    "df_reactions = df_reactions.drop(df_reactions.index[3:6])\n",
    "\n",
    "print(df_reactions)"
   ]
  },
  {
   "cell_type": "code",
   "execution_count": 25,
   "id": "3ea20432",
   "metadata": {},
   "outputs": [
    {
     "name": "stdout",
     "output_type": "stream",
     "text": [
      "  label  nb_hits\n",
      "0     0      639\n",
      "1     1      101\n",
      "2     2        2\n"
     ]
    }
   ],
   "source": [
    "# Droping features from DataFrame \n",
    "\n",
    "df_reactions_clean = df_reactions[['label', 'nb_hits']]\n",
    "print(df_reactions_clean)"
   ]
  },
  {
   "cell_type": "markdown",
   "id": "8aefe9ba",
   "metadata": {},
   "source": [
    "# Performing Logistic Regression on Data Frame Reactions"
   ]
  },
  {
   "cell_type": "code",
   "execution_count": 27,
   "id": "735d7ea5",
   "metadata": {},
   "outputs": [
    {
     "name": "stdout",
     "output_type": "stream",
     "text": [
      "Coefficient: [[-0.67483169]]\n",
      "Intercept: [0.]\n"
     ]
    }
   ],
   "source": [
    "from sklearn.linear_model import LogisticRegression\n",
    "from sklearn.preprocessing import StandardScaler\n",
    "\n",
    "# Adjusted DataFrame to ensure it's binary for the sake of this example\n",
    "data = {\n",
    "    'label': [0, 1],\n",
    "    'nb_hits': [639, 101]\n",
    "}\n",
    "df_reactions_clean = pd.DataFrame(data)\n",
    "\n",
    "X = df_reactions_clean[['nb_hits']]\n",
    "y = df_reactions_clean['label']\n",
    "\n",
    "# Scaling features\n",
    "scaler = StandardScaler()\n",
    "X_scaled = scaler.fit_transform(X)\n",
    "\n",
    "# Creating and fitting the logistic regression model\n",
    "model = LogisticRegression()\n",
    "model.fit(X_scaled, y)\n",
    "\n",
    "# Displaying the coefficient and intercept\n",
    "print(f\"Coefficient: {model.coef_}\")\n",
    "print(f\"Intercept: {model.intercept_}\")\n"
   ]
  },
  {
   "cell_type": "code",
   "execution_count": null,
   "id": "f1a87285",
   "metadata": {},
   "outputs": [],
   "source": [
    "# Apply Canonical Correlation Analysis "
   ]
  }
 ],
 "metadata": {
  "kernelspec": {
   "display_name": "Python 3 (ipykernel)",
   "language": "python",
   "name": "python3"
  },
  "language_info": {
   "codemirror_mode": {
    "name": "ipython",
    "version": 3
   },
   "file_extension": ".py",
   "mimetype": "text/x-python",
   "name": "python",
   "nbconvert_exporter": "python",
   "pygments_lexer": "ipython3",
   "version": "3.9.12"
  }
 },
 "nbformat": 4,
 "nbformat_minor": 5
}
